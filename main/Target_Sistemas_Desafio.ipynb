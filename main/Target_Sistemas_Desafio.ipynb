{
  "nbformat": 4,
  "nbformat_minor": 0,
  "metadata": {
    "colab": {
      "provenance": [],
      "authorship_tag": "ABX9TyOJ1rDd1uyLdoGoTZMSgxDf",
      "include_colab_link": true
    },
    "kernelspec": {
      "name": "python3",
      "display_name": "Python 3"
    },
    "language_info": {
      "name": "python"
    }
  },
  "cells": [
    {
      "cell_type": "markdown",
      "metadata": {
        "id": "view-in-github",
        "colab_type": "text"
      },
      "source": [
        "<a href=\"https://colab.research.google.com/github/wiUl/Target_Desafio/blob/main/main/Target_Sistemas_Desafio.ipynb\" target=\"_parent\"><img src=\"https://colab.research.google.com/assets/colab-badge.svg\" alt=\"Open In Colab\"/></a>"
      ]
    },
    {
      "cell_type": "markdown",
      "source": [
        "#Questão 1"
      ],
      "metadata": {
        "id": "xEkoPWCsgOkU"
      }
    },
    {
      "cell_type": "code",
      "execution_count": null,
      "metadata": {
        "colab": {
          "base_uri": "https://localhost:8080/"
        },
        "id": "39K8NYs6gFh9",
        "outputId": "c48daf55-d9e4-46b3-86eb-e6976738baff"
      },
      "outputs": [
        {
          "output_type": "stream",
          "name": "stdout",
          "text": [
            "91\n"
          ]
        }
      ],
      "source": [
        "indice = 13\n",
        "soma = 0\n",
        "k = 0\n",
        "\n",
        "while(k < indice):\n",
        "  k = k + 1\n",
        "  soma = soma + k\n",
        "\n",
        "print(soma)"
      ]
    },
    {
      "cell_type": "markdown",
      "source": [
        "#Questão 2\n"
      ],
      "metadata": {
        "id": "5ZqdTcjWhVEY"
      }
    },
    {
      "cell_type": "code",
      "source": [
        "import math\n",
        "\n",
        "def quadrado_perfeito(n):\n",
        "  sqrt_n = int(math.sqrt(n))\n",
        "  return sqrt_n * sqrt_n == n\n",
        "\n",
        "def fibonnaci(n):\n",
        "  return (quadrado_perfeito(5*n*n + 4) or quadrado_perfeito(5*n*n - 4))\n",
        "\n",
        "\n",
        "numero = int(input('Digite um número: '))\n",
        "\n",
        "if fibonnaci(numero):\n",
        "  print(numero, 'pertence a sequência de Fibonnaci')\n",
        "else:\n",
        "  print(numero, 'não pertence a sequência de Fibonnaci')"
      ],
      "metadata": {
        "colab": {
          "base_uri": "https://localhost:8080/"
        },
        "id": "tRTnFAvEhWra",
        "outputId": "e87f3ce7-3ab0-4f3e-8ad6-d017923ee282"
      },
      "execution_count": null,
      "outputs": [
        {
          "output_type": "stream",
          "name": "stdout",
          "text": [
            "Digite um número: 13\n",
            "13 pertence a sequência de Fibonnaci\n"
          ]
        }
      ]
    },
    {
      "cell_type": "markdown",
      "source": [
        "#Questão 3"
      ],
      "metadata": {
        "id": "RUIw2tVUhW3y"
      }
    },
    {
      "cell_type": "code",
      "source": [
        "import json\n",
        "\n",
        "\n",
        "def calcular_faturamento(faturamento_diario):\n",
        "\n",
        "  faturamento_valido = [valor for valor in faturamento_diario if valor > 0]\n",
        "\n",
        "  media = sum(faturamento_valido) / len(faturamento_valido)\n",
        "\n",
        "  dias_acima_media = sum(1 for valor in faturamento_diario if valor > media)\n",
        "\n",
        "  menor_faturamento = min(faturamento_diario)\n",
        "  maior_faturamento = max(faturamento_diario)\n",
        "\n",
        "  return dias_acima_media, menor_faturamento, maior_faturamento\n",
        "\n",
        "\n",
        "with open('dados.json', 'r') as file:\n",
        "  dados = json.load(file)\n",
        "\n",
        "\n",
        "faturamento_diario = dados[faturamento_diario]\n",
        "\n",
        "dias_acima_media, menor, maior = calcular_faturamento(faturamento_diario)\n",
        "\n",
        "print('Dias com faturamento acima da média:', dias_acima_media)\n",
        "print('Menor faturamento:', menor)\n",
        "print('Maior faturamento:', maior)"
      ],
      "metadata": {
        "id": "SmKASVXahZWX"
      },
      "execution_count": null,
      "outputs": []
    },
    {
      "cell_type": "markdown",
      "source": [
        "#Questão 4"
      ],
      "metadata": {
        "id": "RhJ5vWCdhZ1p"
      }
    },
    {
      "cell_type": "code",
      "source": [
        "def calcula_porcentagens():\n",
        "  dados = {\n",
        "      'SP': 67836.43,\n",
        "      'RJ': 36678.66,\n",
        "      'MG': 29229.88,\n",
        "      'ES': 27165.48,\n",
        "      'Outros': 19849.53 }\n",
        "\n",
        "\n",
        "  total = sum(dados.values())\n",
        "\n",
        "  porcentagens = {estado: (valor / total) * 100 for estado, valor in dados.items()}\n",
        "  return porcentagens\n",
        "\n",
        "porcentagens = calcula_porcentagens()\n",
        "\n",
        "print(porcentagens)"
      ],
      "metadata": {
        "colab": {
          "base_uri": "https://localhost:8080/"
        },
        "id": "-R-ls1hTha0P",
        "outputId": "05218382-2668-4e7a-eff5-b0fe12915f75"
      },
      "execution_count": null,
      "outputs": [
        {
          "output_type": "stream",
          "name": "stdout",
          "text": [
            "{'SP': 37.52845624346716, 'RJ': 20.291360952794975, 'MG': 16.170548370275323, 'ES': 15.028481414968068, 'Outros': 10.981153018494469}\n"
          ]
        }
      ]
    },
    {
      "cell_type": "markdown",
      "source": [
        "#Questão 5"
      ],
      "metadata": {
        "id": "wRyekw36lXyl"
      }
    },
    {
      "cell_type": "code",
      "source": [
        "def inverter_string(string):\n",
        "  string_invertida = ''\n",
        "  for i in range(len(string) - 1, -1, -1):\n",
        "    string_invertida += string[i]\n",
        "\n",
        "  if(string == string_invertida):\n",
        "    print('A string é um palíndromo')\n",
        "  return string_invertida\n",
        "\n",
        "\n",
        "string = input('Digite uma palavra: ')\n",
        "\n",
        "resultado = inverter_string(string)\n",
        "\n",
        "print(resultado)"
      ],
      "metadata": {
        "colab": {
          "base_uri": "https://localhost:8080/"
        },
        "id": "ADPzsyhYlXHx",
        "outputId": "668c44d9-e95f-4d9a-fb3a-b652ec0088aa"
      },
      "execution_count": null,
      "outputs": [
        {
          "output_type": "stream",
          "name": "stdout",
          "text": [
            "Digite uma palavra: ama\n",
            "A string é um palíndromo\n",
            "ama\n"
          ]
        }
      ]
    }
  ]
}